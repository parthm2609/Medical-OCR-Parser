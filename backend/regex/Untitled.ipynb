{
 "cells": [
  {
   "cell_type": "code",
   "execution_count": 1,
   "id": "8832dc8a-811a-42fc-b465-cfa51ec46bbd",
   "metadata": {},
   "outputs": [],
   "source": [
    "import re "
   ]
  },
  {
   "cell_type": "code",
   "execution_count": 2,
   "id": "831e1186-1a8f-470a-811d-cafae13b0a28",
   "metadata": {},
   "outputs": [
    {
     "data": {
      "text/plain": [
       "['7321119999', '120']"
      ]
     },
     "execution_count": 2,
     "metadata": {},
     "output_type": "execute_result"
    }
   ],
   "source": [
    "text = \"Patient's phone is 7321119999. Bill amount is 120$\"\n",
    "pattern = '\\d+'\n",
    "match = re.findall(pattern, text)\n",
    "match"
   ]
  },
  {
   "cell_type": "code",
   "execution_count": 3,
   "id": "6f432a3d-9785-4a06-b5fa-e026a8a9512d",
   "metadata": {},
   "outputs": [
    {
     "data": {
      "text/plain": [
       "['7321119999']"
      ]
     },
     "execution_count": 3,
     "metadata": {},
     "output_type": "execute_result"
    }
   ],
   "source": [
    "text = \"Patient's phone is 7321119999. Bill amount is 120$\"\n",
    "pattern = '\\d{10}'\n",
    "match = re.findall(pattern, text)\n",
    "match"
   ]
  },
  {
   "cell_type": "code",
   "execution_count": 5,
   "id": "94844e16-7bc7-407e-af7c-f09a1e0c7929",
   "metadata": {},
   "outputs": [
    {
     "data": {
      "text/plain": [
       "['(732)-111-9999', '7326664444']"
      ]
     },
     "execution_count": 5,
     "metadata": {},
     "output_type": "execute_result"
    }
   ],
   "source": [
    "text = \"Patient's phone is (732)-111-9999, spouse phone number 7326664444. Bill amount is 120$.\"\n",
    "pattern = '\\(\\d{3}\\)-\\d{3}-\\d{4}|\\d{10}'\n",
    "match = re.findall(pattern, text)\n",
    "match"
   ]
  },
  {
   "cell_type": "code",
   "execution_count": 8,
   "id": "32cad644-31b0-4a13-9b9b-8e065bc096a4",
   "metadata": {},
   "outputs": [
    {
     "data": {
      "text/plain": [
       "<re.Match object; span=(19, 50), match='7321119999. Bill amount is 120$'>"
      ]
     },
     "execution_count": 8,
     "metadata": {},
     "output_type": "execute_result"
    }
   ],
   "source": [
    "text = \"Patient's phone is 7321119999. Bill amount is 120$\"\n",
    "pattern = '(\\d{10})\\D+(\\d+)\\$'\n",
    "match = re.search(pattern, text)\n",
    "match"
   ]
  },
  {
   "cell_type": "code",
   "execution_count": 10,
   "id": "907e5d3a-4764-4e14-9ebd-7ea9723f0a08",
   "metadata": {},
   "outputs": [],
   "source": [
    "phone_number, bill_amount = match.groups()"
   ]
  },
  {
   "cell_type": "code",
   "execution_count": 11,
   "id": "a904e844-1615-4f47-bfc9-49c3549ea032",
   "metadata": {},
   "outputs": [
    {
     "data": {
      "text/plain": [
       "'7321119999'"
      ]
     },
     "execution_count": 11,
     "metadata": {},
     "output_type": "execute_result"
    }
   ],
   "source": [
    "phone_number"
   ]
  },
  {
   "cell_type": "code",
   "execution_count": 12,
   "id": "9cad4752-2f34-4ead-8c07-e113ac0d24df",
   "metadata": {},
   "outputs": [
    {
     "data": {
      "text/plain": [
       "'120'"
      ]
     },
     "execution_count": 12,
     "metadata": {},
     "output_type": "execute_result"
    }
   ],
   "source": [
    "bill_amount"
   ]
  },
  {
   "cell_type": "code",
   "execution_count": 13,
   "id": "411ff3d2-8b28-42bc-9ff4-6b151118a714",
   "metadata": {},
   "outputs": [],
   "source": [
    "amt = match.groups()"
   ]
  },
  {
   "cell_type": "code",
   "execution_count": 14,
   "id": "9dae7d29-5974-46ff-a869-648ff9d5db52",
   "metadata": {},
   "outputs": [
    {
     "data": {
      "text/plain": [
       "('7321119999', '120')"
      ]
     },
     "execution_count": 14,
     "metadata": {},
     "output_type": "execute_result"
    }
   ],
   "source": [
    "amt"
   ]
  },
  {
   "cell_type": "code",
   "execution_count": null,
   "id": "a47637d3-bf07-465e-982c-92e45d09f5ae",
   "metadata": {},
   "outputs": [],
   "source": []
  }
 ],
 "metadata": {
  "kernelspec": {
   "display_name": "Python 3 (ipykernel)",
   "language": "python",
   "name": "python3"
  },
  "language_info": {
   "codemirror_mode": {
    "name": "ipython",
    "version": 3
   },
   "file_extension": ".py",
   "mimetype": "text/x-python",
   "name": "python",
   "nbconvert_exporter": "python",
   "pygments_lexer": "ipython3",
   "version": "3.11.1"
  }
 },
 "nbformat": 4,
 "nbformat_minor": 5
}
